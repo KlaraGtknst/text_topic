{
 "cells": [
  {
   "cell_type": "code",
   "id": "initial_id",
   "metadata": {
    "collapsed": true,
    "ExecuteTime": {
     "end_time": "2024-11-11T16:31:56.220632Z",
     "start_time": "2024-11-11T16:31:56.217126Z"
    }
   },
   "source": [
    "from sentence_transformers import SentenceTransformer\n",
    "import data.files as files\n",
    "import topic.topic_modeling as topics"
   ],
   "outputs": [],
   "execution_count": 33
  },
  {
   "metadata": {
    "ExecuteTime": {
     "end_time": "2024-11-11T16:31:57.811845Z",
     "start_time": "2024-11-11T16:31:56.222447Z"
    }
   },
   "cell_type": "code",
   "source": [
    "sentences = [\"This is an example sentence\", \"Each sentence is converted\"]\n",
    "\n",
    "model = SentenceTransformer('sentence-transformers/msmarco-MiniLM-L-12-v3')"
   ],
   "id": "5d58881c60431755",
   "outputs": [],
   "execution_count": 34
  },
  {
   "metadata": {
    "ExecuteTime": {
     "end_time": "2024-11-11T16:31:57.861865Z",
     "start_time": "2024-11-11T16:31:57.812628Z"
    }
   },
   "cell_type": "code",
   "source": [
    "embeddings = model.encode(sentences)\n",
    "#print(embeddings)"
   ],
   "id": "140506e21831638d",
   "outputs": [],
   "execution_count": 35
  },
  {
   "metadata": {
    "ExecuteTime": {
     "end_time": "2024-11-11T16:31:57.937778Z",
     "start_time": "2024-11-11T16:31:57.863932Z"
    }
   },
   "cell_type": "code",
   "source": [
    "path =  \"/Users/klara/Documents/uni/\"# \"/Users/klara/Downloads\"\n",
    "pdfs = files.get_files(path=path, file_ending=\"pdf\")"
   ],
   "id": "fe32a029eac4936c",
   "outputs": [],
   "execution_count": 36
  },
  {
   "metadata": {
    "ExecuteTime": {
     "end_time": "2024-11-11T16:31:57.940023Z",
     "start_time": "2024-11-11T16:31:57.938393Z"
    }
   },
   "cell_type": "code",
   "source": [
    "# embeddings = []\n",
    "# sentences = []\n",
    "# for pdf in pdfs:\n",
    "#     #print(files.extract_text_from_pdf(pdf))\n",
    "#     sentences.extend(files.extract_text_from_pdf(pdf))\n",
    "#     embeddings.append(model.encode(sentences[-1]))\n",
    "    \n",
    "#print(embeddings)"
   ],
   "id": "17421a94e4e86299",
   "outputs": [],
   "execution_count": 37
  },
  {
   "metadata": {
    "ExecuteTime": {
     "end_time": "2024-11-11T16:31:58.048607Z",
     "start_time": "2024-11-11T16:31:57.940660Z"
    }
   },
   "cell_type": "code",
   "source": [
    "model = topics.TopicModel(None)\n",
    "model.load_model(path='models/')"
   ],
   "id": "f4606c18ac18d742",
   "outputs": [],
   "execution_count": 38
  },
  {
   "metadata": {
    "ExecuteTime": {
     "end_time": "2024-11-11T16:31:58.051250Z",
     "start_time": "2024-11-11T16:31:58.049560Z"
    }
   },
   "cell_type": "code",
   "source": "#model = topics.init_document_topics(corpus=sentences)",
   "id": "dd0f8d92b5ad6f81",
   "outputs": [],
   "execution_count": 39
  },
  {
   "metadata": {
    "ExecuteTime": {
     "end_time": "2024-11-11T16:31:58.054390Z",
     "start_time": "2024-11-11T16:31:58.051991Z"
    }
   },
   "cell_type": "code",
   "source": "model.get_num_topics()",
   "id": "75227f62ee59c3e1",
   "outputs": [
    {
     "data": {
      "text/plain": [
       "47"
      ]
     },
     "execution_count": 40,
     "metadata": {},
     "output_type": "execute_result"
    }
   ],
   "execution_count": 40
  },
  {
   "metadata": {
    "ExecuteTime": {
     "end_time": "2024-11-11T16:31:58.123528Z",
     "start_time": "2024-11-11T16:31:58.055040Z"
    }
   },
   "cell_type": "code",
   "source": [
    "model.get_wordcloud_of_similar_topics(model, word=\"benutzer\")\n",
    "print('HI')"
   ],
   "id": "daab5c76cf68faab",
   "outputs": [
    {
     "ename": "ValueError",
     "evalue": "'benutzer' has not been learned by the model so it cannot be searched.",
     "output_type": "error",
     "traceback": [
      "\u001B[0;31m---------------------------------------------------------------------------\u001B[0m",
      "\u001B[0;31mValueError\u001B[0m                                Traceback (most recent call last)",
      "Cell \u001B[0;32mIn[41], line 1\u001B[0m\n\u001B[0;32m----> 1\u001B[0m \u001B[43mmodel\u001B[49m\u001B[38;5;241;43m.\u001B[39;49m\u001B[43mget_wordcloud_of_similar_topics\u001B[49m\u001B[43m(\u001B[49m\u001B[43mmodel\u001B[49m\u001B[43m,\u001B[49m\u001B[43m \u001B[49m\u001B[43mword\u001B[49m\u001B[38;5;241;43m=\u001B[39;49m\u001B[38;5;124;43m\"\u001B[39;49m\u001B[38;5;124;43mbenutzer\u001B[39;49m\u001B[38;5;124;43m\"\u001B[39;49m\u001B[43m)\u001B[49m\n\u001B[1;32m      2\u001B[0m \u001B[38;5;28mprint\u001B[39m(model\u001B[38;5;241m.\u001B[39mget_topic_of_document(\u001B[38;5;124m\"\u001B[39m\u001B[38;5;124mbenutzer\u001B[39m\u001B[38;5;124m\"\u001B[39m))\n",
      "File \u001B[0;32m~/Developer/Uni/WiSe2425/text_topic/topic/topic_modeling.py:87\u001B[0m, in \u001B[0;36mTopicModel.get_wordcloud_of_similar_topics\u001B[0;34m(self, num_topics, word)\u001B[0m\n\u001B[1;32m     80\u001B[0m \u001B[38;5;28;01mdef\u001B[39;00m \u001B[38;5;21mget_wordcloud_of_similar_topics\u001B[39m(\u001B[38;5;28mself\u001B[39m, num_topics: \u001B[38;5;28mint\u001B[39m, word: \u001B[38;5;28mstr\u001B[39m \u001B[38;5;241m=\u001B[39m \u001B[38;5;28;01mNone\u001B[39;00m):\n\u001B[1;32m     81\u001B[0m \u001B[38;5;250m    \u001B[39m\u001B[38;5;124;03m\"\"\"\u001B[39;00m\n\u001B[1;32m     82\u001B[0m \u001B[38;5;124;03m    This function creates a wordcloud of the topics most similar to the word.\u001B[39;00m\n\u001B[1;32m     83\u001B[0m \u001B[38;5;124;03m    :param num_topics: Number of topics to return\u001B[39;00m\n\u001B[1;32m     84\u001B[0m \u001B[38;5;124;03m    :param word: Text query\u001B[39;00m\n\u001B[1;32m     85\u001B[0m \u001B[38;5;124;03m    :return: -\u001B[39;00m\n\u001B[1;32m     86\u001B[0m \u001B[38;5;124;03m    \"\"\"\u001B[39;00m\n\u001B[0;32m---> 87\u001B[0m     topic_words, word_scores, topic_scores, topic_nums \u001B[38;5;241m=\u001B[39m \u001B[38;5;28;43mself\u001B[39;49m\u001B[38;5;241;43m.\u001B[39;49m\u001B[43mmodel\u001B[49m\u001B[38;5;241;43m.\u001B[39;49m\u001B[43msearch_topics\u001B[49m\u001B[43m(\u001B[49m\u001B[43mkeywords\u001B[49m\u001B[38;5;241;43m=\u001B[39;49m\u001B[43m[\u001B[49m\u001B[43mword\u001B[49m\u001B[43m]\u001B[49m\u001B[43m,\u001B[49m\n\u001B[1;32m     88\u001B[0m \u001B[43m                                                                                  \u001B[49m\u001B[43mnum_topics\u001B[49m\u001B[38;5;241;43m=\u001B[39;49m\u001B[43mnum_topics\u001B[49m\u001B[43m)\u001B[49m\n\u001B[1;32m     89\u001B[0m     fig \u001B[38;5;241m=\u001B[39m Figure(figsize\u001B[38;5;241m=\u001B[39m(\u001B[38;5;241m10\u001B[39m, \u001B[38;5;241m4\u001B[39m))\n\u001B[1;32m     90\u001B[0m     canvas \u001B[38;5;241m=\u001B[39m FigureCanvasAgg(fig)\n",
      "File \u001B[0;32m~/Developer/Uni/WiSe2425/text_topic/topic_venv/lib/python3.9/site-packages/top2vec/Top2Vec.py:2750\u001B[0m, in \u001B[0;36mTop2Vec.search_topics\u001B[0;34m(self, keywords, num_topics, keywords_neg, reduced)\u001B[0m\n\u001B[1;32m   2747\u001B[0m \u001B[38;5;28;01mif\u001B[39;00m keywords_neg \u001B[38;5;129;01mis\u001B[39;00m \u001B[38;5;28;01mNone\u001B[39;00m:\n\u001B[1;32m   2748\u001B[0m     keywords_neg \u001B[38;5;241m=\u001B[39m []\n\u001B[0;32m-> 2750\u001B[0m keywords, keywords_neg \u001B[38;5;241m=\u001B[39m \u001B[38;5;28;43mself\u001B[39;49m\u001B[38;5;241;43m.\u001B[39;49m\u001B[43m_validate_keywords\u001B[49m\u001B[43m(\u001B[49m\u001B[43mkeywords\u001B[49m\u001B[43m,\u001B[49m\u001B[43m \u001B[49m\u001B[43mkeywords_neg\u001B[49m\u001B[43m)\u001B[49m\n\u001B[1;32m   2751\u001B[0m word_vecs \u001B[38;5;241m=\u001B[39m \u001B[38;5;28mself\u001B[39m\u001B[38;5;241m.\u001B[39m_words2word_vectors(keywords)\n\u001B[1;32m   2752\u001B[0m neg_word_vecs \u001B[38;5;241m=\u001B[39m \u001B[38;5;28mself\u001B[39m\u001B[38;5;241m.\u001B[39m_words2word_vectors(keywords_neg)\n",
      "File \u001B[0;32m~/Developer/Uni/WiSe2425/text_topic/topic_venv/lib/python3.9/site-packages/top2vec/Top2Vec.py:1269\u001B[0m, in \u001B[0;36mTop2Vec._validate_keywords\u001B[0;34m(self, keywords, keywords_neg)\u001B[0m\n\u001B[1;32m   1267\u001B[0m \u001B[38;5;28;01mfor\u001B[39;00m word \u001B[38;5;129;01min\u001B[39;00m keywords_lower \u001B[38;5;241m+\u001B[39m keywords_neg_lower:\n\u001B[1;32m   1268\u001B[0m     \u001B[38;5;28;01mif\u001B[39;00m word \u001B[38;5;129;01mnot\u001B[39;00m \u001B[38;5;129;01min\u001B[39;00m vocab:\n\u001B[0;32m-> 1269\u001B[0m         \u001B[38;5;28;01mraise\u001B[39;00m \u001B[38;5;167;01mValueError\u001B[39;00m(\u001B[38;5;124mf\u001B[39m\u001B[38;5;124m\"\u001B[39m\u001B[38;5;124m'\u001B[39m\u001B[38;5;132;01m{\u001B[39;00mword\u001B[38;5;132;01m}\u001B[39;00m\u001B[38;5;124m'\u001B[39m\u001B[38;5;124m has not been learned by the model so it cannot be searched.\u001B[39m\u001B[38;5;124m\"\u001B[39m)\n\u001B[1;32m   1271\u001B[0m \u001B[38;5;28;01mreturn\u001B[39;00m keywords_lower, keywords_neg_lower\n",
      "\u001B[0;31mValueError\u001B[0m: 'benutzer' has not been learned by the model so it cannot be searched."
     ]
    }
   ],
   "execution_count": 41
  }
 ],
 "metadata": {
  "kernelspec": {
   "display_name": "Python 3",
   "language": "python",
   "name": "python3"
  },
  "language_info": {
   "codemirror_mode": {
    "name": "ipython",
    "version": 2
   },
   "file_extension": ".py",
   "mimetype": "text/x-python",
   "name": "python",
   "nbconvert_exporter": "python",
   "pygments_lexer": "ipython2",
   "version": "2.7.6"
  }
 },
 "nbformat": 4,
 "nbformat_minor": 5
}
