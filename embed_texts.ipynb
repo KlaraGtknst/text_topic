{
 "cells": [
  {
   "cell_type": "code",
   "id": "initial_id",
   "metadata": {
    "collapsed": true,
    "ExecuteTime": {
     "end_time": "2024-10-21T08:49:37.947071Z",
     "start_time": "2024-10-21T08:49:37.941080Z"
    }
   },
   "source": [
    "from sentence_transformers import SentenceTransformer\n",
    "import data.files as files\n",
    "import topic.document_topics as topics"
   ],
   "outputs": [],
   "execution_count": 10
  },
  {
   "metadata": {
    "ExecuteTime": {
     "end_time": "2024-10-21T08:49:40.514444Z",
     "start_time": "2024-10-21T08:49:37.949622Z"
    }
   },
   "cell_type": "code",
   "source": [
    "sentences = [\"This is an example sentence\", \"Each sentence is converted\"]\n",
    "\n",
    "model = SentenceTransformer('sentence-transformers/msmarco-MiniLM-L-12-v3')"
   ],
   "id": "5d58881c60431755",
   "outputs": [],
   "execution_count": 11
  },
  {
   "metadata": {
    "ExecuteTime": {
     "end_time": "2024-10-21T08:49:40.592380Z",
     "start_time": "2024-10-21T08:49:40.515816Z"
    }
   },
   "cell_type": "code",
   "source": [
    "embeddings = model.encode(sentences)\n",
    "#print(embeddings)"
   ],
   "id": "140506e21831638d",
   "outputs": [],
   "execution_count": 12
  },
  {
   "metadata": {
    "ExecuteTime": {
     "end_time": "2024-10-21T08:49:40.598631Z",
     "start_time": "2024-10-21T08:49:40.593476Z"
    }
   },
   "cell_type": "code",
   "source": [
    "path = \"/Users/klara/Downloads\"\n",
    "pdfs = files.get_files(path=path, file_ending=\"pdf\")"
   ],
   "id": "fe32a029eac4936c",
   "outputs": [],
   "execution_count": 13
  },
  {
   "metadata": {
    "ExecuteTime": {
     "end_time": "2024-10-21T08:49:53.822306Z",
     "start_time": "2024-10-21T08:49:40.600257Z"
    }
   },
   "cell_type": "code",
   "source": [
    "embeddings = []\n",
    "sentences = []\n",
    "for pdf in pdfs:\n",
    "    #print(files.extract_text_from_pdf(pdf))\n",
    "    sentences.extend(files.extract_text_from_pdf(pdf))\n",
    "    embeddings.append(model.encode(sentences[-1]))\n",
    "    \n",
    "#print(embeddings)"
   ],
   "id": "17421a94e4e86299",
   "outputs": [
    {
     "name": "stderr",
     "output_type": "stream",
     "text": [
      "Ignoring wrong pointing object 8 0 (offset 0)\n",
      "Ignoring wrong pointing object 10 0 (offset 0)\n",
      "Ignoring wrong pointing object 12 0 (offset 0)\n",
      "Ignoring wrong pointing object 32 0 (offset 0)\n",
      "Ignoring wrong pointing object 34 0 (offset 0)\n",
      "Ignoring wrong pointing object 38 0 (offset 0)\n",
      "Ignoring wrong pointing object 54 0 (offset 0)\n",
      "Ignoring wrong pointing object 59 0 (offset 0)\n",
      "Ignoring wrong pointing object 60 0 (offset 0)\n",
      "Ignoring wrong pointing object 243 0 (offset 0)\n"
     ]
    }
   ],
   "execution_count": 14
  },
  {
   "metadata": {
    "ExecuteTime": {
     "end_time": "2024-10-21T08:50:15.581436Z",
     "start_time": "2024-10-21T08:50:15.519739Z"
    }
   },
   "cell_type": "code",
   "source": [
    "from top2vec import Top2Vec\n",
    "#print(sentences.flatten())\n",
    "#model = Top2Vec(sentences, embedding_model='universal-sentence-encoder')"
   ],
   "id": "f4606c18ac18d742",
   "outputs": [
    {
     "ename": "ImportError",
     "evalue": "universal-sentence-encoder is not available.\n\nTry: pip install top2vec[sentence_encoders]\n\nAlternatively try: pip install tensorflow tensorflow_hub tensorflow_text",
     "output_type": "error",
     "traceback": [
      "\u001B[0;31m---------------------------------------------------------------------------\u001B[0m",
      "\u001B[0;31mImportError\u001B[0m                               Traceback (most recent call last)",
      "Cell \u001B[0;32mIn[16], line 3\u001B[0m\n\u001B[1;32m      1\u001B[0m \u001B[38;5;28;01mfrom\u001B[39;00m \u001B[38;5;21;01mtop2vec\u001B[39;00m \u001B[38;5;28;01mimport\u001B[39;00m Top2Vec\n\u001B[1;32m      2\u001B[0m \u001B[38;5;66;03m#print(sentences.flatten())\u001B[39;00m\n\u001B[0;32m----> 3\u001B[0m model \u001B[38;5;241m=\u001B[39m \u001B[43mTop2Vec\u001B[49m\u001B[43m(\u001B[49m\u001B[43msentences\u001B[49m\u001B[43m,\u001B[49m\u001B[43m \u001B[49m\u001B[43membedding_model\u001B[49m\u001B[38;5;241;43m=\u001B[39;49m\u001B[38;5;124;43m'\u001B[39;49m\u001B[38;5;124;43muniversal-sentence-encoder\u001B[39;49m\u001B[38;5;124;43m'\u001B[39;49m\u001B[43m)\u001B[49m\n",
      "File \u001B[0;32m~/Developer/Uni/WiSe2425/text_topic/topic_venv/lib/python3.9/site-packages/top2vec/Top2Vec.py:608\u001B[0m, in \u001B[0;36mTop2Vec.__init__\u001B[0;34m(self, documents, min_count, topic_merge_delta, ngram_vocab, ngram_vocab_args, embedding_model, embedding_model_path, embedding_batch_size, split_documents, document_chunker, chunk_length, max_num_chunks, chunk_overlap_ratio, chunk_len_coverage_ratio, sentencizer, speed, use_corpus_file, document_ids, keep_documents, workers, tokenizer, use_embedding_model_tokenizer, umap_args, gpu_umap, hdbscan_args, gpu_hdbscan, index_topics, verbose)\u001B[0m\n\u001B[1;32m    605\u001B[0m \u001B[38;5;28mself\u001B[39m\u001B[38;5;241m.\u001B[39membed \u001B[38;5;241m=\u001B[39m \u001B[38;5;28;01mNone\u001B[39;00m\n\u001B[1;32m    606\u001B[0m \u001B[38;5;28mself\u001B[39m\u001B[38;5;241m.\u001B[39membedding_model \u001B[38;5;241m=\u001B[39m embedding_model\n\u001B[0;32m--> 608\u001B[0m \u001B[38;5;28;43mself\u001B[39;49m\u001B[38;5;241;43m.\u001B[39;49m\u001B[43m_check_import_status\u001B[49m\u001B[43m(\u001B[49m\u001B[43m)\u001B[49m\n\u001B[1;32m    610\u001B[0m logger\u001B[38;5;241m.\u001B[39minfo(\u001B[38;5;124m'\u001B[39m\u001B[38;5;124mPre-processing documents for training\u001B[39m\u001B[38;5;124m'\u001B[39m)\n\u001B[1;32m    612\u001B[0m \u001B[38;5;66;03m# preprocess documents\u001B[39;00m\n",
      "File \u001B[0;32m~/Developer/Uni/WiSe2425/text_topic/topic_venv/lib/python3.9/site-packages/top2vec/Top2Vec.py:1134\u001B[0m, in \u001B[0;36mTop2Vec._check_import_status\u001B[0;34m(self)\u001B[0m\n\u001B[1;32m   1132\u001B[0m \u001B[38;5;28;01mif\u001B[39;00m \u001B[38;5;28mself\u001B[39m\u001B[38;5;241m.\u001B[39membedding_model \u001B[38;5;129;01min\u001B[39;00m use_models:\n\u001B[1;32m   1133\u001B[0m     \u001B[38;5;28;01mif\u001B[39;00m \u001B[38;5;129;01mnot\u001B[39;00m _HAVE_TENSORFLOW:\n\u001B[0;32m-> 1134\u001B[0m         \u001B[38;5;28;01mraise\u001B[39;00m \u001B[38;5;167;01mImportError\u001B[39;00m(\u001B[38;5;124mf\u001B[39m\u001B[38;5;124m\"\u001B[39m\u001B[38;5;132;01m{\u001B[39;00m\u001B[38;5;28mself\u001B[39m\u001B[38;5;241m.\u001B[39membedding_model\u001B[38;5;132;01m}\u001B[39;00m\u001B[38;5;124m is not available.\u001B[39m\u001B[38;5;130;01m\\n\u001B[39;00m\u001B[38;5;130;01m\\n\u001B[39;00m\u001B[38;5;124m\"\u001B[39m\n\u001B[1;32m   1135\u001B[0m                           \u001B[38;5;124m\"\u001B[39m\u001B[38;5;124mTry: pip install top2vec[sentence_encoders]\u001B[39m\u001B[38;5;130;01m\\n\u001B[39;00m\u001B[38;5;130;01m\\n\u001B[39;00m\u001B[38;5;124m\"\u001B[39m\n\u001B[1;32m   1136\u001B[0m                           \u001B[38;5;124m\"\u001B[39m\u001B[38;5;124mAlternatively try: pip install tensorflow tensorflow_hub tensorflow_text\u001B[39m\u001B[38;5;124m\"\u001B[39m)\n\u001B[1;32m   1137\u001B[0m \u001B[38;5;28;01melif\u001B[39;00m \u001B[38;5;28mself\u001B[39m\u001B[38;5;241m.\u001B[39membedding_model \u001B[38;5;129;01min\u001B[39;00m sbert_models:\n\u001B[1;32m   1138\u001B[0m     \u001B[38;5;28;01mif\u001B[39;00m \u001B[38;5;129;01mnot\u001B[39;00m _HAVE_TORCH:\n",
      "\u001B[0;31mImportError\u001B[0m: universal-sentence-encoder is not available.\n\nTry: pip install top2vec[sentence_encoders]\n\nAlternatively try: pip install tensorflow tensorflow_hub tensorflow_text"
     ]
    }
   ],
   "execution_count": 16
  },
  {
   "metadata": {
    "ExecuteTime": {
     "end_time": "2024-10-21T08:51:36.166614Z",
     "start_time": "2024-10-21T08:50:43.901642Z"
    }
   },
   "cell_type": "code",
   "source": "model = topics.init_document_topics(corpus=sentences)",
   "id": "dd0f8d92b5ad6f81",
   "outputs": [
    {
     "name": "stderr",
     "output_type": "stream",
     "text": [
      "2024-10-21 10:50:43,909 - top2vec - INFO - Pre-processing documents for training\n",
      "/Users/klara/Developer/Uni/WiSe2425/text_topic/topic_venv/lib/python3.9/site-packages/sklearn/feature_extraction/text.py:521: UserWarning: The parameter 'token_pattern' will not be used since 'tokenizer' is not None'\n",
      "  warnings.warn(\n",
      "2024-10-21 10:50:44,028 - top2vec - INFO - Downloading distiluse-base-multilingual-cased model\n"
     ]
    },
    {
     "data": {
      "text/plain": [
       "modules.json:   0%|          | 0.00/341 [00:00<?, ?B/s]"
      ],
      "application/vnd.jupyter.widget-view+json": {
       "version_major": 2,
       "version_minor": 0,
       "model_id": "b21dc398d1e34136848053ee3a29e08f"
      }
     },
     "metadata": {},
     "output_type": "display_data"
    },
    {
     "data": {
      "text/plain": [
       "config_sentence_transformers.json:   0%|          | 0.00/122 [00:00<?, ?B/s]"
      ],
      "application/vnd.jupyter.widget-view+json": {
       "version_major": 2,
       "version_minor": 0,
       "model_id": "401d1f57e0b3403f82deef13342033ed"
      }
     },
     "metadata": {},
     "output_type": "display_data"
    },
    {
     "data": {
      "text/plain": [
       "README.md:   0%|          | 0.00/2.39k [00:00<?, ?B/s]"
      ],
      "application/vnd.jupyter.widget-view+json": {
       "version_major": 2,
       "version_minor": 0,
       "model_id": "0998684060ca40d3b4491b7e67ca6418"
      }
     },
     "metadata": {},
     "output_type": "display_data"
    },
    {
     "data": {
      "text/plain": [
       "sentence_bert_config.json:   0%|          | 0.00/53.0 [00:00<?, ?B/s]"
      ],
      "application/vnd.jupyter.widget-view+json": {
       "version_major": 2,
       "version_minor": 0,
       "model_id": "c3d18a0225dd4b6cb8cd43c61e932ba2"
      }
     },
     "metadata": {},
     "output_type": "display_data"
    },
    {
     "data": {
      "text/plain": [
       "config.json:   0%|          | 0.00/607 [00:00<?, ?B/s]"
      ],
      "application/vnd.jupyter.widget-view+json": {
       "version_major": 2,
       "version_minor": 0,
       "model_id": "75a69912cdee4c45906ffac88609af01"
      }
     },
     "metadata": {},
     "output_type": "display_data"
    },
    {
     "data": {
      "text/plain": [
       "model.safetensors:   0%|          | 0.00/539M [00:00<?, ?B/s]"
      ],
      "application/vnd.jupyter.widget-view+json": {
       "version_major": 2,
       "version_minor": 0,
       "model_id": "18347286eff14286af8e2f558289845d"
      }
     },
     "metadata": {},
     "output_type": "display_data"
    },
    {
     "data": {
      "text/plain": [
       "tokenizer_config.json:   0%|          | 0.00/528 [00:00<?, ?B/s]"
      ],
      "application/vnd.jupyter.widget-view+json": {
       "version_major": 2,
       "version_minor": 0,
       "model_id": "0ebbbe10655d4e1c89b648b3fbf2c71c"
      }
     },
     "metadata": {},
     "output_type": "display_data"
    },
    {
     "data": {
      "text/plain": [
       "vocab.txt:   0%|          | 0.00/996k [00:00<?, ?B/s]"
      ],
      "application/vnd.jupyter.widget-view+json": {
       "version_major": 2,
       "version_minor": 0,
       "model_id": "0ffc93a691644d80a33b29bf7c6251dd"
      }
     },
     "metadata": {},
     "output_type": "display_data"
    },
    {
     "data": {
      "text/plain": [
       "tokenizer.json:   0%|          | 0.00/1.96M [00:00<?, ?B/s]"
      ],
      "application/vnd.jupyter.widget-view+json": {
       "version_major": 2,
       "version_minor": 0,
       "model_id": "5ee4f55d4703462785a5b3c4172ace17"
      }
     },
     "metadata": {},
     "output_type": "display_data"
    },
    {
     "data": {
      "text/plain": [
       "special_tokens_map.json:   0%|          | 0.00/112 [00:00<?, ?B/s]"
      ],
      "application/vnd.jupyter.widget-view+json": {
       "version_major": 2,
       "version_minor": 0,
       "model_id": "a04d8dad14c3426fa0db953bb92925c6"
      }
     },
     "metadata": {},
     "output_type": "display_data"
    },
    {
     "data": {
      "text/plain": [
       "1_Pooling/config.json:   0%|          | 0.00/190 [00:00<?, ?B/s]"
      ],
      "application/vnd.jupyter.widget-view+json": {
       "version_major": 2,
       "version_minor": 0,
       "model_id": "5f622e241a57454eace538c5176e5514"
      }
     },
     "metadata": {},
     "output_type": "display_data"
    },
    {
     "data": {
      "text/plain": [
       "2_Dense/config.json:   0%|          | 0.00/114 [00:00<?, ?B/s]"
      ],
      "application/vnd.jupyter.widget-view+json": {
       "version_major": 2,
       "version_minor": 0,
       "model_id": "a5067fa8bc754cacb6e429da2af14346"
      }
     },
     "metadata": {},
     "output_type": "display_data"
    },
    {
     "data": {
      "text/plain": [
       "pytorch_model.bin:   0%|          | 0.00/1.58M [00:00<?, ?B/s]"
      ],
      "application/vnd.jupyter.widget-view+json": {
       "version_major": 2,
       "version_minor": 0,
       "model_id": "da352b31cdfb4b3f9568903402d7e755"
      }
     },
     "metadata": {},
     "output_type": "display_data"
    },
    {
     "data": {
      "text/plain": [
       "rust_model.ot:   0%|          | 0.00/1.58M [00:00<?, ?B/s]"
      ],
      "application/vnd.jupyter.widget-view+json": {
       "version_major": 2,
       "version_minor": 0,
       "model_id": "1478b32479fa49b3add9fe1b5f5a37d2"
      }
     },
     "metadata": {},
     "output_type": "display_data"
    },
    {
     "data": {
      "text/plain": [
       "model.safetensors:   0%|          | 0.00/1.58M [00:00<?, ?B/s]"
      ],
      "application/vnd.jupyter.widget-view+json": {
       "version_major": 2,
       "version_minor": 0,
       "model_id": "dda195cd65cd4f57b92a1fc1d638b3d9"
      }
     },
     "metadata": {},
     "output_type": "display_data"
    },
    {
     "name": "stderr",
     "output_type": "stream",
     "text": [
      "2024-10-21 10:51:30,158 - top2vec - INFO - Creating joint document/word embedding\n",
      "2024-10-21 10:51:32,106 - top2vec - INFO - Creating lower dimension embedding of documents\n",
      "OMP: Info #276: omp_set_nested routine deprecated, please use omp_set_max_active_levels instead.\n",
      "2024-10-21 10:51:36,146 - top2vec - INFO - Finding dense areas of documents\n",
      "2024-10-21 10:51:36,156 - top2vec - INFO - Finding topics\n"
     ]
    }
   ],
   "execution_count": 17
  },
  {
   "metadata": {
    "ExecuteTime": {
     "end_time": "2024-10-21T08:54:02.455359Z",
     "start_time": "2024-10-21T08:54:02.447945Z"
    }
   },
   "cell_type": "code",
   "source": "model.get_num_topics()",
   "id": "75227f62ee59c3e1",
   "outputs": [
    {
     "data": {
      "text/plain": [
       "2"
      ]
     },
     "execution_count": 18,
     "metadata": {},
     "output_type": "execute_result"
    }
   ],
   "execution_count": 18
  },
  {
   "metadata": {
    "ExecuteTime": {
     "end_time": "2024-10-21T08:54:05.357694Z",
     "start_time": "2024-10-21T08:54:05.352003Z"
    }
   },
   "cell_type": "code",
   "source": "model.get_topics()",
   "id": "f8c13e1346c60862",
   "outputs": [
    {
     "data": {
      "text/plain": [
       "(array([['globus', 'grid', 'middleware', 'toolkit', 'onnen', 'benutzer',\n",
       "         'gz', 'gd', 'unicore', 'ist', 'auf', 'eine', 'oder', 'es',\n",
       "         'einer', 'dw', 'ein', 'kann', 'die', 'wurde', 'auch', 'zk',\n",
       "         'mzkl', 'ld', 'dkz', 'sgd', 'mit', 'vd', 'im', 'sind', 'den',\n",
       "         'lz', 'wird', 'sie', 'kd', 'dem', 'sich', 'ud', 'ldm', 'der',\n",
       "         'kz', 'mzk', 'rz', 'dk', 'zm', 'an', 'mz', 'das', 'rd', 'zu'],\n",
       "        ['dm', 'dw', 'md', 'ldm', 'kz', 'rd', 'rz', 'sgd', 'kd', 'zk',\n",
       "         'dz', 'gd', 'ld', 'dk', 'lz', 'dkz', 'mr', 'mzk', 'gz', 'mz',\n",
       "         'vd', 'mzkl', 'zm', 'mit', 'an', 'des', 'ur', 'das', 'und', 'im',\n",
       "         'ein', 'der', 'eine', 'zu', 'einer', 'ist', 'dr', 'es', 'den',\n",
       "         'die', 'dem', 'wird', 'sich', 'von', 'in', 'oder', 'sie', 'ud',\n",
       "         'sind', 'wurde']], dtype='<U10'),\n",
       " array([[ 0.1061956 ,  0.07339135,  0.05512488,  0.04763659,  0.00705766,\n",
       "          0.00166574, -0.00220087, -0.01686116, -0.01722406, -0.0177286 ,\n",
       "         -0.02430666, -0.02640801, -0.03018   , -0.03142183, -0.03586613,\n",
       "         -0.03780796, -0.04033652, -0.04203926, -0.04435467, -0.04483045,\n",
       "         -0.04609784, -0.04681784, -0.0483356 , -0.04845716, -0.04898731,\n",
       "         -0.04934483, -0.05004881, -0.05052314, -0.05222162, -0.05240446,\n",
       "         -0.05372806, -0.05384045, -0.05591209, -0.0561642 , -0.05694356,\n",
       "         -0.05815639, -0.05902278, -0.0594077 , -0.05954319, -0.05963968,\n",
       "         -0.06139998, -0.06320526, -0.06458566, -0.06521299, -0.06567313,\n",
       "         -0.06675793, -0.06921203, -0.07179052, -0.07418578, -0.07739004],\n",
       "        [ 0.41526854,  0.38590434,  0.37531954,  0.36877227,  0.36548045,\n",
       "          0.35198998,  0.3515532 ,  0.34820804,  0.3477177 ,  0.34635258,\n",
       "          0.34039178,  0.33928114,  0.33705038,  0.32226977,  0.32030696,\n",
       "          0.3199308 ,  0.3048355 ,  0.30482963,  0.2956068 ,  0.28989935,\n",
       "          0.28851056,  0.2763546 ,  0.27631518,  0.22994038,  0.22621793,\n",
       "          0.22469223,  0.21810755,  0.2143045 ,  0.20452732,  0.20437469,\n",
       "          0.20213944,  0.19496408,  0.19000342,  0.18830651,  0.18520743,\n",
       "          0.1832985 ,  0.1830487 ,  0.17677827,  0.17304753,  0.16533187,\n",
       "          0.16459167,  0.16357183,  0.16008349,  0.15071335,  0.15010093,\n",
       "          0.14811902,  0.14771417,  0.14382611,  0.14213014,  0.13983539]],\n",
       "       dtype=float32),\n",
       " array([0, 1]))"
      ]
     },
     "execution_count": 19,
     "metadata": {},
     "output_type": "execute_result"
    }
   ],
   "execution_count": 19
  },
  {
   "metadata": {},
   "cell_type": "code",
   "outputs": [],
   "execution_count": null,
   "source": "",
   "id": "daab5c76cf68faab"
  }
 ],
 "metadata": {
  "kernelspec": {
   "display_name": "Python 3",
   "language": "python",
   "name": "python3"
  },
  "language_info": {
   "codemirror_mode": {
    "name": "ipython",
    "version": 2
   },
   "file_extension": ".py",
   "mimetype": "text/x-python",
   "name": "python",
   "nbconvert_exporter": "python",
   "pygments_lexer": "ipython2",
   "version": "2.7.6"
  }
 },
 "nbformat": 4,
 "nbformat_minor": 5
}
