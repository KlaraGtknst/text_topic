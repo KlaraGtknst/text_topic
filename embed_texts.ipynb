{
 "cells": [
  {
   "cell_type": "code",
   "id": "initial_id",
   "metadata": {
    "collapsed": true,
    "ExecuteTime": {
     "end_time": "2024-10-21T13:46:58.207005Z",
     "start_time": "2024-10-21T13:46:53.401316Z"
    }
   },
   "source": [
    "from sentence_transformers import SentenceTransformer\n",
    "import data.files as files\n",
    "import topic.document_topics as topics"
   ],
   "outputs": [
    {
     "name": "stderr",
     "output_type": "stream",
     "text": [
      "/Users/klara/Developer/Uni/WiSe2425/text_topic/topic_venv/lib/python3.9/site-packages/sentence_transformers/cross_encoder/CrossEncoder.py:13: TqdmExperimentalWarning: Using `tqdm.autonotebook.tqdm` in notebook mode. Use `tqdm.tqdm` instead to force console mode (e.g. in jupyter console)\n",
      "  from tqdm.autonotebook import tqdm, trange\n",
      "/Users/klara/Developer/Uni/WiSe2425/text_topic/topic_venv/lib/python3.9/site-packages/urllib3/__init__.py:35: NotOpenSSLWarning: urllib3 v2 only supports OpenSSL 1.1.1+, currently the 'ssl' module is compiled with 'LibreSSL 2.8.3'. See: https://github.com/urllib3/urllib3/issues/3020\n",
      "  warnings.warn(\n"
     ]
    }
   ],
   "execution_count": 1
  },
  {
   "metadata": {
    "ExecuteTime": {
     "end_time": "2024-10-21T13:47:00.456182Z",
     "start_time": "2024-10-21T13:46:58.208156Z"
    }
   },
   "cell_type": "code",
   "source": [
    "sentences = [\"This is an example sentence\", \"Each sentence is converted\"]\n",
    "\n",
    "model = SentenceTransformer('sentence-transformers/msmarco-MiniLM-L-12-v3')"
   ],
   "id": "5d58881c60431755",
   "outputs": [],
   "execution_count": 2
  },
  {
   "metadata": {
    "ExecuteTime": {
     "end_time": "2024-10-21T13:47:00.673791Z",
     "start_time": "2024-10-21T13:47:00.457808Z"
    }
   },
   "cell_type": "code",
   "source": [
    "embeddings = model.encode(sentences)\n",
    "#print(embeddings)"
   ],
   "id": "140506e21831638d",
   "outputs": [],
   "execution_count": 3
  },
  {
   "metadata": {
    "ExecuteTime": {
     "end_time": "2024-10-21T13:47:00.677525Z",
     "start_time": "2024-10-21T13:47:00.674637Z"
    }
   },
   "cell_type": "code",
   "source": [
    "path = \"/Users/klara/Downloads\"\n",
    "pdfs = files.get_files(path=path, file_ending=\"pdf\")"
   ],
   "id": "fe32a029eac4936c",
   "outputs": [],
   "execution_count": 4
  },
  {
   "metadata": {
    "ExecuteTime": {
     "end_time": "2024-10-21T13:47:10.138942Z",
     "start_time": "2024-10-21T13:47:00.679431Z"
    }
   },
   "cell_type": "code",
   "source": [
    "embeddings = []\n",
    "sentences = []\n",
    "for pdf in pdfs:\n",
    "    #print(files.extract_text_from_pdf(pdf))\n",
    "    sentences.extend(files.extract_text_from_pdf(pdf))\n",
    "    embeddings.append(model.encode(sentences[-1]))\n",
    "    \n",
    "#print(embeddings)"
   ],
   "id": "17421a94e4e86299",
   "outputs": [
    {
     "name": "stderr",
     "output_type": "stream",
     "text": [
      "Ignoring wrong pointing object 8 0 (offset 0)\n",
      "Ignoring wrong pointing object 10 0 (offset 0)\n",
      "Ignoring wrong pointing object 12 0 (offset 0)\n",
      "Ignoring wrong pointing object 32 0 (offset 0)\n",
      "Ignoring wrong pointing object 34 0 (offset 0)\n",
      "Ignoring wrong pointing object 38 0 (offset 0)\n",
      "Ignoring wrong pointing object 54 0 (offset 0)\n",
      "Ignoring wrong pointing object 59 0 (offset 0)\n",
      "Ignoring wrong pointing object 60 0 (offset 0)\n",
      "Ignoring wrong pointing object 243 0 (offset 0)\n"
     ]
    }
   ],
   "execution_count": 5
  },
  {
   "metadata": {
    "ExecuteTime": {
     "end_time": "2024-10-21T13:47:10.141509Z",
     "start_time": "2024-10-21T13:47:10.139834Z"
    }
   },
   "cell_type": "code",
   "source": [
    "from top2vec import Top2Vec\n",
    "#print(sentences.flatten())\n",
    "#model = Top2Vec(sentences, embedding_model='universal-sentence-encoder')"
   ],
   "id": "f4606c18ac18d742",
   "outputs": [],
   "execution_count": 6
  },
  {
   "metadata": {
    "ExecuteTime": {
     "end_time": "2024-10-21T13:47:15.714180Z",
     "start_time": "2024-10-21T13:47:10.142211Z"
    }
   },
   "cell_type": "code",
   "source": "model = topics.init_document_topics(corpus=sentences)",
   "id": "dd0f8d92b5ad6f81",
   "outputs": [
    {
     "name": "stderr",
     "output_type": "stream",
     "text": [
      "2024-10-21 15:47:10,143 - top2vec - INFO - Pre-processing documents for training\n",
      "/Users/klara/Developer/Uni/WiSe2425/text_topic/topic_venv/lib/python3.9/site-packages/sklearn/feature_extraction/text.py:521: UserWarning: The parameter 'token_pattern' will not be used since 'tokenizer' is not None'\n",
      "  warnings.warn(\n",
      "2024-10-21 15:47:10,197 - top2vec - INFO - Downloading distiluse-base-multilingual-cased model\n",
      "2024-10-21 15:47:12,257 - top2vec - INFO - Creating joint document/word embedding\n",
      "2024-10-21 15:47:12,812 - top2vec - INFO - Creating lower dimension embedding of documents\n",
      "OMP: Info #276: omp_set_nested routine deprecated, please use omp_set_max_active_levels instead.\n",
      "2024-10-21 15:47:15,699 - top2vec - INFO - Finding dense areas of documents\n",
      "2024-10-21 15:47:15,706 - top2vec - INFO - Finding topics\n"
     ]
    }
   ],
   "execution_count": 7
  },
  {
   "metadata": {
    "ExecuteTime": {
     "end_time": "2024-10-21T13:47:15.718795Z",
     "start_time": "2024-10-21T13:47:15.715175Z"
    }
   },
   "cell_type": "code",
   "source": "model.get_num_topics()",
   "id": "75227f62ee59c3e1",
   "outputs": [
    {
     "data": {
      "text/plain": [
       "2"
      ]
     },
     "execution_count": 8,
     "metadata": {},
     "output_type": "execute_result"
    }
   ],
   "execution_count": 8
  },
  {
   "metadata": {
    "ExecuteTime": {
     "end_time": "2024-10-21T13:47:15.722908Z",
     "start_time": "2024-10-21T13:47:15.719683Z"
    }
   },
   "cell_type": "code",
   "source": "model.get_topics()",
   "id": "f8c13e1346c60862",
   "outputs": [
    {
     "data": {
      "text/plain": [
       "(array([['globus', 'grid', 'toolkit', 'middleware', 'onnen', 'gz',\n",
       "         'benutzer', 'ist', 'gd', 'unicore', 'auf', 'eine', 'oder', 'es',\n",
       "         'dw', 'einer', 'kann', 'ein', 'auch', 'die', 'zk', 'mzkl',\n",
       "         'wurde', 'dkz', 'ld', 'sgd', 'vd', 'im', 'mit', 'lz', 'sind',\n",
       "         'den', 'sie', 'kd', 'ud', 'wird', 'dem', 'ldm', 'kz', 'sich',\n",
       "         'der', 'mzk', 'rz', 'zm', 'an', 'dk', 'mz', 'das', 'rd', 'zu'],\n",
       "        ['dm', 'dw', 'md', 'ldm', 'kz', 'rd', 'rz', 'sgd', 'kd', 'zk',\n",
       "         'dz', 'gd', 'ld', 'dk', 'lz', 'dkz', 'mr', 'mzk', 'gz', 'mz',\n",
       "         'vd', 'mzkl', 'zm', 'mit', 'an', 'des', 'ur', 'das', 'und', 'im',\n",
       "         'ein', 'der', 'eine', 'zu', 'einer', 'ist', 'dr', 'es', 'den',\n",
       "         'die', 'dem', 'wird', 'sich', 'von', 'and', 'in', 'oder', 'sie',\n",
       "         'ud', 'sind']], dtype='<U10'),\n",
       " array([[ 0.10007982,  0.07184058,  0.04746882,  0.04555111,  0.00902327,\n",
       "         -0.00190913, -0.00531514, -0.016539  , -0.01691297, -0.02072001,\n",
       "         -0.02305615, -0.02640007, -0.02818682, -0.02959746, -0.03454749,\n",
       "         -0.03590997, -0.03965032, -0.03984932, -0.0437155 , -0.04377991,\n",
       "         -0.04537626, -0.045938  , -0.04609077, -0.04667176, -0.04730177,\n",
       "         -0.04863822, -0.04999566, -0.05057055, -0.05090006, -0.05155398,\n",
       "         -0.05179818, -0.05181148, -0.05477033, -0.05497485, -0.0550706 ,\n",
       "         -0.05548619, -0.05699325, -0.0574903 , -0.05803556, -0.05832192,\n",
       "         -0.05871176, -0.05990186, -0.06362926, -0.06397632, -0.06543419,\n",
       "         -0.06554235, -0.0661062 , -0.07092297, -0.07429422, -0.07655367],\n",
       "        [ 0.41526854,  0.38590434,  0.37531954,  0.36877227,  0.36548045,\n",
       "          0.35198998,  0.3515532 ,  0.34820804,  0.3477177 ,  0.34635258,\n",
       "          0.34039178,  0.33928114,  0.33705038,  0.32226977,  0.32030696,\n",
       "          0.3199308 ,  0.3048355 ,  0.30482963,  0.2956068 ,  0.28989935,\n",
       "          0.28851056,  0.2763546 ,  0.27631518,  0.2299403 ,  0.22621793,\n",
       "          0.22469223,  0.21810755,  0.2143045 ,  0.20452738,  0.20437469,\n",
       "          0.20213944,  0.19496408,  0.19000342,  0.18830651,  0.18520743,\n",
       "          0.1832985 ,  0.1830487 ,  0.17677827,  0.17304753,  0.16533181,\n",
       "          0.16459167,  0.16357183,  0.16008349,  0.15071344,  0.15014149,\n",
       "          0.15010093,  0.14811902,  0.14771417,  0.14382611,  0.14213014]],\n",
       "       dtype=float32),\n",
       " array([0, 1]))"
      ]
     },
     "execution_count": 9,
     "metadata": {},
     "output_type": "execute_result"
    }
   ],
   "execution_count": 9
  },
  {
   "metadata": {
    "ExecuteTime": {
     "end_time": "2024-10-21T13:47:16.030546Z",
     "start_time": "2024-10-21T13:47:15.723600Z"
    }
   },
   "cell_type": "code",
   "source": "topics.display_wordcloud(model, keyword=\"benutzer\")",
   "id": "daab5c76cf68faab",
   "outputs": [
    {
     "ename": "ValueError",
     "evalue": "num_topics cannot exceed the number of topics: 2.",
     "output_type": "error",
     "traceback": [
      "\u001B[0;31m---------------------------------------------------------------------------\u001B[0m",
      "\u001B[0;31mValueError\u001B[0m                                Traceback (most recent call last)",
      "Cell \u001B[0;32mIn[10], line 1\u001B[0m\n\u001B[0;32m----> 1\u001B[0m \u001B[43mtopics\u001B[49m\u001B[38;5;241;43m.\u001B[39;49m\u001B[43mdisplay_wordcloud\u001B[49m\u001B[43m(\u001B[49m\u001B[43mmodel\u001B[49m\u001B[43m,\u001B[49m\u001B[43m \u001B[49m\u001B[43mkeyword\u001B[49m\u001B[38;5;241;43m=\u001B[39;49m\u001B[38;5;124;43m\"\u001B[39;49m\u001B[38;5;124;43mbenutzer\u001B[39;49m\u001B[38;5;124;43m\"\u001B[39;49m\u001B[43m)\u001B[49m\n",
      "File \u001B[0;32m~/Developer/Uni/WiSe2425/text_topic/topic/document_topics.py:18\u001B[0m, in \u001B[0;36mdisplay_wordcloud\u001B[0;34m(model, keyword)\u001B[0m\n\u001B[1;32m     17\u001B[0m \u001B[38;5;28;01mdef\u001B[39;00m \u001B[38;5;21mdisplay_wordcloud\u001B[39m(model, keyword\u001B[38;5;241m=\u001B[39m\u001B[38;5;124m\"\u001B[39m\u001B[38;5;124mtax\u001B[39m\u001B[38;5;124m\"\u001B[39m):\n\u001B[0;32m---> 18\u001B[0m     topic_words, word_scores, topic_scores, topic_nums \u001B[38;5;241m=\u001B[39m \u001B[43mmodel\u001B[49m\u001B[38;5;241;43m.\u001B[39;49m\u001B[43msearch_topics\u001B[49m\u001B[43m(\u001B[49m\u001B[43mkeywords\u001B[49m\u001B[38;5;241;43m=\u001B[39;49m\u001B[43m[\u001B[49m\u001B[43mkeyword\u001B[49m\u001B[43m]\u001B[49m\u001B[43m,\u001B[49m\u001B[43m \u001B[49m\u001B[43mnum_topics\u001B[49m\u001B[38;5;241;43m=\u001B[39;49m\u001B[38;5;241;43m5\u001B[39;49m\u001B[43m)\u001B[49m\n\u001B[1;32m     19\u001B[0m     \u001B[38;5;28mprint\u001B[39m(topic_words)\n\u001B[1;32m     20\u001B[0m     \u001B[38;5;28mprint\u001B[39m(topic_nums)\n",
      "File \u001B[0;32m~/Developer/Uni/WiSe2425/text_topic/topic_venv/lib/python3.9/site-packages/top2vec/Top2Vec.py:2755\u001B[0m, in \u001B[0;36mTop2Vec.search_topics\u001B[0;34m(self, keywords, num_topics, keywords_neg, reduced)\u001B[0m\n\u001B[1;32m   2752\u001B[0m neg_word_vecs \u001B[38;5;241m=\u001B[39m \u001B[38;5;28mself\u001B[39m\u001B[38;5;241m.\u001B[39m_words2word_vectors(keywords_neg)\n\u001B[1;32m   2753\u001B[0m combined_vector \u001B[38;5;241m=\u001B[39m \u001B[38;5;28mself\u001B[39m\u001B[38;5;241m.\u001B[39m_get_combined_vec(word_vecs, neg_word_vecs)\n\u001B[0;32m-> 2755\u001B[0m \u001B[38;5;28;01mreturn\u001B[39;00m \u001B[38;5;28;43mself\u001B[39;49m\u001B[38;5;241;43m.\u001B[39;49m\u001B[43msearch_topics_by_vector\u001B[49m\u001B[43m(\u001B[49m\u001B[43mcombined_vector\u001B[49m\u001B[43m,\u001B[49m\u001B[43m \u001B[49m\u001B[43mnum_topics\u001B[49m\u001B[38;5;241;43m=\u001B[39;49m\u001B[43mnum_topics\u001B[49m\u001B[43m,\u001B[49m\u001B[43m \u001B[49m\u001B[43mreduced\u001B[49m\u001B[38;5;241;43m=\u001B[39;49m\u001B[43mreduced\u001B[49m\u001B[43m)\u001B[49m\n",
      "File \u001B[0;32m~/Developer/Uni/WiSe2425/text_topic/topic_venv/lib/python3.9/site-packages/top2vec/Top2Vec.py:2443\u001B[0m, in \u001B[0;36mTop2Vec.search_topics_by_vector\u001B[0;34m(self, vector, num_topics, reduced)\u001B[0m\n\u001B[1;32m   2394\u001B[0m \u001B[38;5;250m\u001B[39m\u001B[38;5;124;03m\"\"\"\u001B[39;00m\n\u001B[1;32m   2395\u001B[0m \u001B[38;5;124;03mSemantic search of topics using keywords.\u001B[39;00m\n\u001B[1;32m   2396\u001B[0m \n\u001B[0;32m   (...)\u001B[0m\n\u001B[1;32m   2439\u001B[0m \u001B[38;5;124;03m    The unique number of every topic will be returned.\u001B[39;00m\n\u001B[1;32m   2440\u001B[0m \u001B[38;5;124;03m\"\"\"\u001B[39;00m\n\u001B[1;32m   2442\u001B[0m \u001B[38;5;28mself\u001B[39m\u001B[38;5;241m.\u001B[39m_validate_vector(vector)\n\u001B[0;32m-> 2443\u001B[0m \u001B[38;5;28;43mself\u001B[39;49m\u001B[38;5;241;43m.\u001B[39;49m\u001B[43m_validate_num_topics\u001B[49m\u001B[43m(\u001B[49m\u001B[43mnum_topics\u001B[49m\u001B[43m,\u001B[49m\u001B[43m \u001B[49m\u001B[43mreduced\u001B[49m\u001B[43m)\u001B[49m\n\u001B[1;32m   2445\u001B[0m vector \u001B[38;5;241m=\u001B[39m \u001B[38;5;28mself\u001B[39m\u001B[38;5;241m.\u001B[39m_l2_normalize(vector)\n\u001B[1;32m   2447\u001B[0m \u001B[38;5;28;01mif\u001B[39;00m reduced:\n",
      "File \u001B[0;32m~/Developer/Uni/WiSe2425/text_topic/topic_venv/lib/python3.9/site-packages/top2vec/Top2Vec.py:1208\u001B[0m, in \u001B[0;36mTop2Vec._validate_num_topics\u001B[0;34m(self, num_topics, reduced)\u001B[0m\n\u001B[1;32m   1206\u001B[0m topic_count \u001B[38;5;241m=\u001B[39m \u001B[38;5;28mlen\u001B[39m(\u001B[38;5;28mself\u001B[39m\u001B[38;5;241m.\u001B[39mtopic_vectors)\n\u001B[1;32m   1207\u001B[0m \u001B[38;5;28;01mif\u001B[39;00m num_topics \u001B[38;5;241m>\u001B[39m topic_count:\n\u001B[0;32m-> 1208\u001B[0m     \u001B[38;5;28;01mraise\u001B[39;00m \u001B[38;5;167;01mValueError\u001B[39;00m(\u001B[38;5;124mf\u001B[39m\u001B[38;5;124m\"\u001B[39m\u001B[38;5;124mnum_topics cannot exceed the number of topics: \u001B[39m\u001B[38;5;132;01m{\u001B[39;00mtopic_count\u001B[38;5;132;01m}\u001B[39;00m\u001B[38;5;124m.\u001B[39m\u001B[38;5;124m\"\u001B[39m)\n",
      "\u001B[0;31mValueError\u001B[0m: num_topics cannot exceed the number of topics: 2."
     ]
    }
   ],
   "execution_count": 10
  },
  {
   "metadata": {
    "ExecuteTime": {
     "end_time": "2024-10-21T13:47:16.031265Z",
     "start_time": "2024-10-21T13:47:16.031200Z"
    }
   },
   "cell_type": "code",
   "source": "",
   "id": "a8acbdf5247843bb",
   "outputs": [],
   "execution_count": null
  }
 ],
 "metadata": {
  "kernelspec": {
   "display_name": "Python 3",
   "language": "python",
   "name": "python3"
  },
  "language_info": {
   "codemirror_mode": {
    "name": "ipython",
    "version": 2
   },
   "file_extension": ".py",
   "mimetype": "text/x-python",
   "name": "python",
   "nbconvert_exporter": "python",
   "pygments_lexer": "ipython2",
   "version": "2.7.6"
  }
 },
 "nbformat": 4,
 "nbformat_minor": 5
}
