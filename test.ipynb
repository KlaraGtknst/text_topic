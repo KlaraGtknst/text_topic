{
 "cells": [
  {
   "cell_type": "code",
   "id": "initial_id",
   "metadata": {
    "collapsed": true,
    "ExecuteTime": {
     "end_time": "2024-11-08T07:54:28.719254Z",
     "start_time": "2024-11-08T07:54:22.138365Z"
    }
   },
   "source": [
    "import data.files as files\n",
    "import os\n",
    "from topic.topic_modeling import TopicModel\n",
    "from tqdm import tqdm"
   ],
   "outputs": [
    {
     "name": "stderr",
     "output_type": "stream",
     "text": [
      "/Users/klara/Developer/Uni/WiSe2425/text_topic/topic_venv/lib/python3.9/site-packages/urllib3/__init__.py:35: NotOpenSSLWarning: urllib3 v2 only supports OpenSSL 1.1.1+, currently the 'ssl' module is compiled with 'LibreSSL 2.8.3'. See: https://github.com/urllib3/urllib3/issues/3020\n",
      "  warnings.warn(\n"
     ]
    }
   ],
   "execution_count": 1
  },
  {
   "metadata": {
    "ExecuteTime": {
     "end_time": "2024-11-08T07:54:28.792379Z",
     "start_time": "2024-11-08T07:54:28.720555Z"
    }
   },
   "cell_type": "code",
   "source": [
    "path = \"/Users/klara/Documents/uni/\"\n",
    "pdfs = files.get_files(path=path, file_ending=\"pdf\")\n",
    "dataset_path =\"dataset/\"\n",
    "model_path = 'models/'"
   ],
   "id": "bd15fa715a43d2f8",
   "outputs": [],
   "execution_count": 2
  },
  {
   "metadata": {
    "ExecuteTime": {
     "end_time": "2024-11-08T07:54:28.796732Z",
     "start_time": "2024-11-08T07:54:28.793158Z"
    }
   },
   "cell_type": "code",
   "source": "os.path.basename(path)",
   "id": "6d5608ede169ac89",
   "outputs": [
    {
     "data": {
      "text/plain": [
       "''"
      ]
     },
     "execution_count": 3,
     "metadata": {},
     "output_type": "execute_result"
    }
   ],
   "execution_count": 3
  },
  {
   "metadata": {
    "ExecuteTime": {
     "end_time": "2024-11-08T07:54:28.799787Z",
     "start_time": "2024-11-08T07:54:28.797402Z"
    }
   },
   "cell_type": "code",
   "source": [
    "def save_sentences_to_file(sentences, dataset_path):\n",
    "    # save the sentences to a file\n",
    "    #files.save_text_to_file(sentences, dataset_path + \"sentences.txt\")\n",
    "    with open(dataset_path + 'sentences1.txt', 'w') as f:\n",
    "        for i in tqdm(range(len(sentences)), desc='Writing sentences to file'):\n",
    "            sentence = sentences[i].encode(\"utf-8\", errors=\"ignore\")\n",
    "            try:\n",
    "                f.write(f\"b'{sentence}\\n\")\n",
    "            except AttributeError as e:\n",
    "                #f.write(f\"{sentence}\\n\")\n",
    "                print(f\"Error with sentence {i} encountered: {e}\")\n",
    "                pass\n",
    "    f.close()"
   ],
   "id": "724294c03d5bc85b",
   "outputs": [],
   "execution_count": 4
  },
  {
   "metadata": {
    "ExecuteTime": {
     "end_time": "2024-11-08T07:54:28.802863Z",
     "start_time": "2024-11-08T07:54:28.801151Z"
    }
   },
   "cell_type": "code",
   "source": [
    "def load_sentences_from_file(dataset_path):\n",
    "    # load the sentences from a file\n",
    "    with open(dataset_path + 'sentences.txt') as f:\n",
    "        sentences = f.read()#f.readlines()\n",
    "    print(\"File content read successfully\")  # Check if this prints\n",
    "    return sentences"
   ],
   "id": "78861482481e7a9b",
   "outputs": [],
   "execution_count": 5
  },
  {
   "metadata": {
    "ExecuteTime": {
     "end_time": "2024-11-08T07:54:28.834018Z",
     "start_time": "2024-11-08T07:54:28.803535Z"
    }
   },
   "cell_type": "code",
   "source": [
    "sentences = []\n",
    "if dataset_path:\n",
    "    sentences = load_sentences_from_file(dataset_path)\n",
    "else:\n",
    "    for i in tqdm(range(len(pdfs)), desc='Extracting text from pdfs'):\n",
    "        pdf = pdfs[i]\n",
    "        sentence = files.extract_text_from_pdf(pdf)\n",
    "        if type(sentence) != str:\n",
    "            sentence = str(sentence)\n",
    "        sentences.extend(sentence)\n",
    "    sentences = save_sentences_to_file(sentences, dataset_path)"
   ],
   "id": "f94f38605094ed29",
   "outputs": [
    {
     "name": "stdout",
     "output_type": "stream",
     "text": [
      "File content read successfully\n"
     ]
    }
   ],
   "execution_count": 6
  },
  {
   "metadata": {
    "ExecuteTime": {
     "end_time": "2024-11-08T07:54:28.837678Z",
     "start_time": "2024-11-08T07:54:28.835001Z"
    }
   },
   "cell_type": "code",
   "source": "sentences[0:100]",
   "id": "f473d09542855c9d",
   "outputs": [
    {
     "data": {
      "text/plain": [
       "\"b'b'Identification of Key Information with Topic Analysis\\\\non Large Unstructured Text Data\\\\nB A C H \""
      ]
     },
     "execution_count": 7,
     "metadata": {},
     "output_type": "execute_result"
    }
   ],
   "execution_count": 7
  },
  {
   "metadata": {
    "ExecuteTime": {
     "end_time": "2024-11-08T07:58:40.660964Z",
     "start_time": "2024-11-08T07:58:40.411788Z"
    }
   },
   "cell_type": "code",
   "source": [
    "if model_path:\n",
    "    model = TopicModel(None)\n",
    "    model.load_model(path=model_path)\n",
    "    print(model)\n",
    "else:\n",
    "    model = TopicModel(documents=sentences)\n",
    "    model.save_model(path=model_path)\n"
   ],
   "id": "4fdd94afd8b1efcd",
   "outputs": [
    {
     "name": "stdout",
     "output_type": "stream",
     "text": [
      "<topic.topic_modeling.TopicModel object at 0x337e9b940>\n"
     ]
    }
   ],
   "execution_count": 12
  },
  {
   "metadata": {
    "ExecuteTime": {
     "end_time": "2024-11-08T07:58:46.666055Z",
     "start_time": "2024-11-08T07:58:43.372278Z"
    }
   },
   "cell_type": "code",
   "source": "print('closest topics:', model.get_closest_topics(word='benutzer', num_topics=1)[0])\n",
   "id": "c289bc027065b508",
   "outputs": [
    {
     "name": "stdout",
     "output_type": "stream",
     "text": [
      "closest topics: [array(['lai', 'de', 'nd', 'ar', 'tr', 'ove', 'sein', 'nz', 'las', 'zu',\n",
      "       'ge', 'om', 'ki', 'le', 'ity', 'oz', 'en', 'sia', 'eng', 'ozt',\n",
      "       'ta', 'nce', 'ci', 'lj', 'der', 'cqs', 'ont', 'eg', 'neg', 'elg',\n",
      "       'ndt', 'ab', 'cq', 'lncs', 'alg', 'sk', 'zm', 'dennis', 'xu',\n",
      "       'arr', 'il', 'vbg', 'qu', 'cap', 'mis', 'wjt', 'sie', 'sm', 'font',\n",
      "       'etn'], dtype='<U15')]\n"
     ]
    }
   ],
   "execution_count": 13
  },
  {
   "metadata": {
    "ExecuteTime": {
     "end_time": "2024-11-08T07:58:54.595458Z",
     "start_time": "2024-11-08T07:58:54.307360Z"
    }
   },
   "cell_type": "code",
   "source": "model.get_wordcloud_of_similar_topics(num_topics=2, word=\"benutzer\")",
   "id": "8c6476bcac67bab8",
   "outputs": [
    {
     "ename": "ValueError",
     "evalue": "'benutzer' has not been learned by the model so it cannot be searched.",
     "output_type": "error",
     "traceback": [
      "\u001B[0;31m---------------------------------------------------------------------------\u001B[0m",
      "\u001B[0;31mValueError\u001B[0m                                Traceback (most recent call last)",
      "Cell \u001B[0;32mIn[14], line 1\u001B[0m\n\u001B[0;32m----> 1\u001B[0m \u001B[43mmodel\u001B[49m\u001B[38;5;241;43m.\u001B[39;49m\u001B[43mget_wordcloud_of_similar_topics\u001B[49m\u001B[43m(\u001B[49m\u001B[43mnum_topics\u001B[49m\u001B[38;5;241;43m=\u001B[39;49m\u001B[38;5;241;43m2\u001B[39;49m\u001B[43m,\u001B[49m\u001B[43m \u001B[49m\u001B[43mword\u001B[49m\u001B[38;5;241;43m=\u001B[39;49m\u001B[38;5;124;43m\"\u001B[39;49m\u001B[38;5;124;43mbenutzer\u001B[39;49m\u001B[38;5;124;43m\"\u001B[39;49m\u001B[43m)\u001B[49m\n",
      "File \u001B[0;32m~/Developer/Uni/WiSe2425/text_topic/topic/topic_modeling.py:83\u001B[0m, in \u001B[0;36mTopicModel.get_wordcloud_of_similar_topics\u001B[0;34m(self, num_topics, word)\u001B[0m\n\u001B[1;32m     76\u001B[0m \u001B[38;5;28;01mdef\u001B[39;00m \u001B[38;5;21mget_wordcloud_of_similar_topics\u001B[39m(\u001B[38;5;28mself\u001B[39m, num_topics: \u001B[38;5;28mint\u001B[39m, word: \u001B[38;5;28mstr\u001B[39m \u001B[38;5;241m=\u001B[39m \u001B[38;5;28;01mNone\u001B[39;00m):\n\u001B[1;32m     77\u001B[0m \u001B[38;5;250m    \u001B[39m\u001B[38;5;124;03m\"\"\"\u001B[39;00m\n\u001B[1;32m     78\u001B[0m \u001B[38;5;124;03m    This function creates a wordcloud of the topics most similar to the word.\u001B[39;00m\n\u001B[1;32m     79\u001B[0m \u001B[38;5;124;03m    :param num_topics: Number of topics to return\u001B[39;00m\n\u001B[1;32m     80\u001B[0m \u001B[38;5;124;03m    :param word: Text query\u001B[39;00m\n\u001B[1;32m     81\u001B[0m \u001B[38;5;124;03m    :return: -\u001B[39;00m\n\u001B[1;32m     82\u001B[0m \u001B[38;5;124;03m    \"\"\"\u001B[39;00m\n\u001B[0;32m---> 83\u001B[0m     topic_words, word_scores, topic_scores, topic_nums \u001B[38;5;241m=\u001B[39m \u001B[38;5;28;43mself\u001B[39;49m\u001B[38;5;241;43m.\u001B[39;49m\u001B[43mmodel\u001B[49m\u001B[38;5;241;43m.\u001B[39;49m\u001B[43msearch_topics\u001B[49m\u001B[43m(\u001B[49m\u001B[43mkeywords\u001B[49m\u001B[38;5;241;43m=\u001B[39;49m\u001B[43m[\u001B[49m\u001B[43mword\u001B[49m\u001B[43m]\u001B[49m\u001B[43m,\u001B[49m\n\u001B[1;32m     84\u001B[0m \u001B[43m                                                                                  \u001B[49m\u001B[43mnum_topics\u001B[49m\u001B[38;5;241;43m=\u001B[39;49m\u001B[43mnum_topics\u001B[49m\u001B[43m)\u001B[49m\n\u001B[1;32m     85\u001B[0m     fig \u001B[38;5;241m=\u001B[39m Figure(figsize\u001B[38;5;241m=\u001B[39m(\u001B[38;5;241m10\u001B[39m, \u001B[38;5;241m4\u001B[39m))\n\u001B[1;32m     86\u001B[0m     canvas \u001B[38;5;241m=\u001B[39m FigureCanvasAgg(fig)\n",
      "File \u001B[0;32m~/Developer/Uni/WiSe2425/text_topic/topic_venv/lib/python3.9/site-packages/top2vec/Top2Vec.py:2750\u001B[0m, in \u001B[0;36mTop2Vec.search_topics\u001B[0;34m(self, keywords, num_topics, keywords_neg, reduced)\u001B[0m\n\u001B[1;32m   2747\u001B[0m \u001B[38;5;28;01mif\u001B[39;00m keywords_neg \u001B[38;5;129;01mis\u001B[39;00m \u001B[38;5;28;01mNone\u001B[39;00m:\n\u001B[1;32m   2748\u001B[0m     keywords_neg \u001B[38;5;241m=\u001B[39m []\n\u001B[0;32m-> 2750\u001B[0m keywords, keywords_neg \u001B[38;5;241m=\u001B[39m \u001B[38;5;28;43mself\u001B[39;49m\u001B[38;5;241;43m.\u001B[39;49m\u001B[43m_validate_keywords\u001B[49m\u001B[43m(\u001B[49m\u001B[43mkeywords\u001B[49m\u001B[43m,\u001B[49m\u001B[43m \u001B[49m\u001B[43mkeywords_neg\u001B[49m\u001B[43m)\u001B[49m\n\u001B[1;32m   2751\u001B[0m word_vecs \u001B[38;5;241m=\u001B[39m \u001B[38;5;28mself\u001B[39m\u001B[38;5;241m.\u001B[39m_words2word_vectors(keywords)\n\u001B[1;32m   2752\u001B[0m neg_word_vecs \u001B[38;5;241m=\u001B[39m \u001B[38;5;28mself\u001B[39m\u001B[38;5;241m.\u001B[39m_words2word_vectors(keywords_neg)\n",
      "File \u001B[0;32m~/Developer/Uni/WiSe2425/text_topic/topic_venv/lib/python3.9/site-packages/top2vec/Top2Vec.py:1269\u001B[0m, in \u001B[0;36mTop2Vec._validate_keywords\u001B[0;34m(self, keywords, keywords_neg)\u001B[0m\n\u001B[1;32m   1267\u001B[0m \u001B[38;5;28;01mfor\u001B[39;00m word \u001B[38;5;129;01min\u001B[39;00m keywords_lower \u001B[38;5;241m+\u001B[39m keywords_neg_lower:\n\u001B[1;32m   1268\u001B[0m     \u001B[38;5;28;01mif\u001B[39;00m word \u001B[38;5;129;01mnot\u001B[39;00m \u001B[38;5;129;01min\u001B[39;00m vocab:\n\u001B[0;32m-> 1269\u001B[0m         \u001B[38;5;28;01mraise\u001B[39;00m \u001B[38;5;167;01mValueError\u001B[39;00m(\u001B[38;5;124mf\u001B[39m\u001B[38;5;124m\"\u001B[39m\u001B[38;5;124m'\u001B[39m\u001B[38;5;132;01m{\u001B[39;00mword\u001B[38;5;132;01m}\u001B[39;00m\u001B[38;5;124m'\u001B[39m\u001B[38;5;124m has not been learned by the model so it cannot be searched.\u001B[39m\u001B[38;5;124m\"\u001B[39m)\n\u001B[1;32m   1271\u001B[0m \u001B[38;5;28;01mreturn\u001B[39;00m keywords_lower, keywords_neg_lower\n",
      "\u001B[0;31mValueError\u001B[0m: 'benutzer' has not been learned by the model so it cannot be searched."
     ]
    }
   ],
   "execution_count": 14
  },
  {
   "metadata": {
    "ExecuteTime": {
     "end_time": "2024-11-08T07:59:05.967789Z",
     "start_time": "2024-11-08T07:59:05.964788Z"
    }
   },
   "cell_type": "code",
   "source": "print(type(sentences))",
   "id": "1c63faec9f0d7ece",
   "outputs": [
    {
     "name": "stdout",
     "output_type": "stream",
     "text": [
      "<class 'str'>\n"
     ]
    }
   ],
   "execution_count": 15
  },
  {
   "metadata": {
    "ExecuteTime": {
     "end_time": "2024-11-08T07:59:07.181355Z",
     "start_time": "2024-11-08T07:59:07.179019Z"
    }
   },
   "cell_type": "code",
   "source": "print(sentences[0])",
   "id": "fb98c1975cbd5c46",
   "outputs": [
    {
     "name": "stdout",
     "output_type": "stream",
     "text": [
      "b\n"
     ]
    }
   ],
   "execution_count": 16
  },
  {
   "metadata": {},
   "cell_type": "code",
   "source": "",
   "id": "cfe6ade19011f765",
   "outputs": [],
   "execution_count": null
  },
  {
   "metadata": {},
   "cell_type": "code",
   "source": "",
   "id": "6e94199cdb177bb2",
   "outputs": [],
   "execution_count": null
  },
  {
   "metadata": {},
   "cell_type": "code",
   "source": "",
   "id": "e9894d1fb090c975",
   "outputs": [],
   "execution_count": null
  },
  {
   "metadata": {},
   "cell_type": "code",
   "source": "\n",
   "id": "aff075e78b09da94",
   "outputs": [],
   "execution_count": null
  },
  {
   "metadata": {},
   "cell_type": "code",
   "source": "",
   "id": "4a665b1eff04526a",
   "outputs": [],
   "execution_count": null
  },
  {
   "metadata": {},
   "cell_type": "code",
   "source": "",
   "id": "1fa50e983304ab67",
   "outputs": [],
   "execution_count": null
  }
 ],
 "metadata": {
  "kernelspec": {
   "display_name": "Python 3",
   "language": "python",
   "name": "python3"
  },
  "language_info": {
   "codemirror_mode": {
    "name": "ipython",
    "version": 2
   },
   "file_extension": ".py",
   "mimetype": "text/x-python",
   "name": "python",
   "nbconvert_exporter": "python",
   "pygments_lexer": "ipython2",
   "version": "2.7.6"
  }
 },
 "nbformat": 4,
 "nbformat_minor": 5
}
